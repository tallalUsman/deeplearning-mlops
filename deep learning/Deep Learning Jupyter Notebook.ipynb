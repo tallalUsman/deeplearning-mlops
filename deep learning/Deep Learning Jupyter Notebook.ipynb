{
 "cells": [
  {
   "cell_type": "markdown",
   "metadata": {
    "application/vnd.databricks.v1+cell": {
     "cellMetadata": {
      "byteLimit": 2048000,
      "rowLimit": 10000
     },
     "inputWidgets": {},
     "nuid": "f4b4851b-db84-489d-b10a-a2e467e4264d",
     "showTitle": false,
     "title": ""
    }
   },
   "source": [
    "# Deep Learning: Feed-Forward model to Predict scores"
   ]
  },
  {
   "cell_type": "markdown",
   "metadata": {
    "application/vnd.databricks.v1+cell": {
     "cellMetadata": {
      "byteLimit": 2048000,
      "rowLimit": 10000
     },
     "inputWidgets": {},
     "nuid": "fc1612e0-8000-4b98-8352-2d1960998722",
     "showTitle": false,
     "title": ""
    }
   },
   "source": [
    "## Import Libraries"
   ]
  },
  {
   "cell_type": "code",
   "execution_count": 0,
   "metadata": {
    "application/vnd.databricks.v1+cell": {
     "cellMetadata": {
      "byteLimit": 2048000,
      "rowLimit": 10000
     },
     "inputWidgets": {},
     "nuid": "dd0979a8-bb77-40d3-9fac-03d62ec2c339",
     "showTitle": false,
     "title": ""
    }
   },
   "outputs": [
    {
     "output_type": "stream",
     "name": "stdout",
     "output_type": "stream",
     "text": [
      "Collecting torch\r\n  Using cached torch-2.0.1-cp39-cp39-manylinux1_x86_64.whl (619.9 MB)\r\nCollecting nvidia-cuda-nvrtc-cu11==11.7.99\r\n  Using cached nvidia_cuda_nvrtc_cu11-11.7.99-2-py3-none-manylinux1_x86_64.whl (21.0 MB)\r\nRequirement already satisfied: jinja2 in /databricks/python3/lib/python3.9/site-packages (from torch) (2.11.3)\r\nRequirement already satisfied: filelock in /usr/local/lib/python3.9/dist-packages (from torch) (3.9.0)\r\nCollecting nvidia-curand-cu11==10.2.10.91\r\n  Using cached nvidia_curand_cu11-10.2.10.91-py3-none-manylinux1_x86_64.whl (54.6 MB)\r\nCollecting nvidia-cuda-runtime-cu11==11.7.99\r\n  Using cached nvidia_cuda_runtime_cu11-11.7.99-py3-none-manylinux1_x86_64.whl (849 kB)\r\nCollecting nvidia-cuda-cupti-cu11==11.7.101\r\n  Using cached nvidia_cuda_cupti_cu11-11.7.101-py3-none-manylinux1_x86_64.whl (11.8 MB)\r\nCollecting nvidia-cusparse-cu11==11.7.4.91\r\n  Using cached nvidia_cusparse_cu11-11.7.4.91-py3-none-manylinux1_x86_64.whl (173.2 MB)\r\nCollecting nvidia-cublas-cu11==11.10.3.66\r\n  Using cached nvidia_cublas_cu11-11.10.3.66-py3-none-manylinux1_x86_64.whl (317.1 MB)\r\nCollecting nvidia-cusolver-cu11==11.4.0.1\r\n  Using cached nvidia_cusolver_cu11-11.4.0.1-2-py3-none-manylinux1_x86_64.whl (102.6 MB)\r\nCollecting nvidia-nccl-cu11==2.14.3\r\n  Using cached nvidia_nccl_cu11-2.14.3-py3-none-manylinux1_x86_64.whl (177.1 MB)\r\nCollecting triton==2.0.0\r\n  Using cached triton-2.0.0-1-cp39-cp39-manylinux2014_x86_64.manylinux_2_17_x86_64.whl (63.3 MB)\r\nRequirement already satisfied: typing-extensions in /databricks/python3/lib/python3.9/site-packages (from torch) (4.1.1)\r\nCollecting sympy\r\n  Using cached sympy-1.12-py3-none-any.whl (5.7 MB)\r\nCollecting nvidia-nvtx-cu11==11.7.91\r\n  Using cached nvidia_nvtx_cu11-11.7.91-py3-none-manylinux1_x86_64.whl (98 kB)\r\nCollecting nvidia-cufft-cu11==10.9.0.58\r\n  Using cached nvidia_cufft_cu11-10.9.0.58-py3-none-manylinux1_x86_64.whl (168.4 MB)\r\nCollecting networkx\r\n  Using cached networkx-3.1-py3-none-any.whl (2.1 MB)\r\nCollecting nvidia-cudnn-cu11==8.5.0.96\r\n  Using cached nvidia_cudnn_cu11-8.5.0.96-2-py3-none-manylinux1_x86_64.whl (557.1 MB)\r\nRequirement already satisfied: wheel in /databricks/python3/lib/python3.9/site-packages (from nvidia-cublas-cu11==11.10.3.66->torch) (0.37.0)\r\nRequirement already satisfied: setuptools in /databricks/python3/lib/python3.9/site-packages (from nvidia-cublas-cu11==11.10.3.66->torch) (61.2.0)\r\nCollecting lit\r\n  Using cached lit-16.0.6-py3-none-any.whl\r\nCollecting cmake\r\n  Using cached cmake-3.26.4-py2.py3-none-manylinux2014_x86_64.manylinux_2_17_x86_64.whl (24.0 MB)\r\nRequirement already satisfied: MarkupSafe>=0.23 in /databricks/python3/lib/python3.9/site-packages (from jinja2->torch) (2.0.1)\r\nCollecting mpmath>=0.19\r\n  Using cached mpmath-1.3.0-py3-none-any.whl (536 kB)\r\nInstalling collected packages: nvidia-cublas-cu11, mpmath, lit, cmake, triton, sympy, nvidia-nvtx-cu11, nvidia-nccl-cu11, nvidia-cusparse-cu11, nvidia-cusolver-cu11, nvidia-curand-cu11, nvidia-cufft-cu11, nvidia-cudnn-cu11, nvidia-cuda-runtime-cu11, nvidia-cuda-nvrtc-cu11, nvidia-cuda-cupti-cu11, networkx, torch\r\nSuccessfully installed cmake-3.26.4 lit-16.0.6 mpmath-1.3.0 networkx-3.1 nvidia-cublas-cu11-11.10.3.66 nvidia-cuda-cupti-cu11-11.7.101 nvidia-cuda-nvrtc-cu11-11.7.99 nvidia-cuda-runtime-cu11-11.7.99 nvidia-cudnn-cu11-8.5.0.96 nvidia-cufft-cu11-10.9.0.58 nvidia-curand-cu11-10.2.10.91 nvidia-cusolver-cu11-11.4.0.1 nvidia-cusparse-cu11-11.7.4.91 nvidia-nccl-cu11-2.14.3 nvidia-nvtx-cu11-11.7.91 sympy-1.12 torch-2.0.1 triton-2.0.0\r\n\u001B[33mWARNING: You are using pip version 21.2.4; however, version 23.1.2 is available.\r\nYou should consider upgrading via the '/local_disk0/.ephemeral_nfs/envs/pythonEnv-8a33e657-d55d-42ed-9ee9-fb5745cce236/bin/python -m pip install --upgrade pip' command.\u001B[0m\r\n"
     ]
    }
   ],
   "source": [
    "!pip install torch"
   ]
  },
  {
   "cell_type": "code",
   "execution_count": 0,
   "metadata": {
    "application/vnd.databricks.v1+cell": {
     "cellMetadata": {
      "byteLimit": 2048000,
      "rowLimit": 10000
     },
     "inputWidgets": {},
     "nuid": "e0bc6f45-ecdb-489f-bc38-9ca32cd19c01",
     "showTitle": false,
     "title": ""
    }
   },
   "outputs": [],
   "source": [
    "from pyspark.sql import SparkSession\n",
    "import pyspark.pandas as ps\n",
    "from pyspark.ml.feature import StringIndexer\n",
    "\n",
    "import torch\n",
    "import torch.nn as nn\n",
    "import torch.nn.functional as F\n",
    "from torch.utils.data import random_split, TensorDataset, DataLoader"
   ]
  },
  {
   "cell_type": "markdown",
   "metadata": {
    "application/vnd.databricks.v1+cell": {
     "cellMetadata": {
      "byteLimit": 2048000,
      "rowLimit": 10000
     },
     "inputWidgets": {},
     "nuid": "30c9771a-a73b-4433-997e-014cce175b00",
     "showTitle": false,
     "title": ""
    }
   },
   "source": [
    "## Create Spark Dataframe and apply transformations"
   ]
  },
  {
   "cell_type": "code",
   "execution_count": 0,
   "metadata": {
    "application/vnd.databricks.v1+cell": {
     "cellMetadata": {
      "byteLimit": 2048000,
      "rowLimit": 10000
     },
     "inputWidgets": {},
     "nuid": "005caef7-464b-4c4f-b34d-3280697b1534",
     "showTitle": false,
     "title": ""
    }
   },
   "outputs": [],
   "source": [
    "# Create a Spark session\n",
    "spark = SparkSession.builder.getOrCreate()\n",
    "\n",
    "# Read a table into a Spark DataFrame\n",
    "spark_df = spark.table(\"football.gold_dl_table\")"
   ]
  },
  {
   "cell_type": "markdown",
   "metadata": {
    "application/vnd.databricks.v1+cell": {
     "cellMetadata": {
      "byteLimit": 2048000,
      "rowLimit": 10000
     },
     "inputWidgets": {},
     "nuid": "bb40086e-b471-4dce-850e-9f292cff8966",
     "showTitle": false,
     "title": ""
    }
   },
   "source": [
    "### Label encodings for categorical variables"
   ]
  },
  {
   "cell_type": "code",
   "execution_count": 0,
   "metadata": {
    "application/vnd.databricks.v1+cell": {
     "cellMetadata": {
      "byteLimit": 2048000,
      "rowLimit": 10000
     },
     "inputWidgets": {},
     "nuid": "d1e74a32-00c3-4827-8feb-09f775dc2d43",
     "showTitle": false,
     "title": ""
    }
   },
   "outputs": [],
   "source": [
    "# List of categorical columns to encode\n",
    "categorical_cols = [\"coach_id_home\", \"league_id\", \"season\", \"coach_id_away\"]\n",
    "\n",
    "# Loop through categorical columns and apply StringIndexer\n",
    "for col in categorical_cols:\n",
    "    indexer = StringIndexer(inputCol=col, outputCol=col + \"Index\")\n",
    "    spark_df = indexer.fit(spark_df).transform(spark_df)"
   ]
  },
  {
   "cell_type": "code",
   "execution_count": 0,
   "metadata": {
    "application/vnd.databricks.v1+cell": {
     "cellMetadata": {
      "byteLimit": 2048000,
      "rowLimit": 10000
     },
     "inputWidgets": {},
     "nuid": "71b3374f-f4ed-4804-89ef-9499c1ee61ad",
     "showTitle": false,
     "title": ""
    }
   },
   "outputs": [],
   "source": [
    "spark_df = spark_df.drop(\n",
    "    \"fixture_date\",\n",
    "    \"fixture_id\",\n",
    "    \"referee\",\n",
    "    \"venue_id\",\n",
    "    \"status\",\n",
    "    \"away_team_id\",\n",
    "    \"home_team_id\",\n",
    "    \"match_result\",\n",
    "    \"coach_id_home\",\n",
    "    \"coach_id_away\",\n",
    "    \"league_id\",\n",
    "    \"season\",\n",
    ")\n",
    "\n",
    "spark_df = spark_df.dropna()"
   ]
  },
  {
   "cell_type": "code",
   "execution_count": 0,
   "metadata": {
    "application/vnd.databricks.v1+cell": {
     "cellMetadata": {
      "byteLimit": 2048000,
      "rowLimit": 10000
     },
     "inputWidgets": {},
     "nuid": "0c170ec2-259b-4c33-b692-b20da80e6497",
     "showTitle": false,
     "title": ""
    }
   },
   "outputs": [
    {
     "output_type": "stream",
     "name": "stdout",
     "output_type": "stream",
     "text": [
      "+----------+----------+--------------------+--------------------+------------------+-------------------+------------------+--------------+--------------+------------------+------------------+------------------+------------------+--------------+-----------+------------------+\n|away_goals|home_goals|rank_team_faced_away|rank_team_faced_home|     total_shots_r|  prior_season_rank|      possession_r|red_cards_away|red_cards_home|        gk_saves_r|           fouls_r|   pass_accuracy_r|coach_id_homeIndex|league_idIndex|seasonIndex|coach_id_awayIndex|\n+----------+----------+--------------------+--------------------+------------------+-------------------+------------------+--------------+--------------+------------------+------------------+------------------+------------------+--------------+-----------+------------------+\n|         2|         0|                 8.0|                16.0|              3.25|0.35294117647058826|              1.14|           0.0|           0.0|               1.0|               1.5|1.2263099219620959|             102.0|           0.0|        1.0|              79.0|\n|         2|         0|                 8.0|                16.0|              3.25|0.35294117647058826|              1.14|           0.0|           0.0|               1.0|               1.5|1.2263099219620959|             102.0|           0.0|        1.0|             354.0|\n|         2|         3|                13.5|                11.0|1.1029411764705883|                1.2|               0.9|          0.25|           0.0|1.3333333333333333|            1.1875|0.9736355577216107|             148.0|           0.0|        1.0|              79.0|\n|         2|         3|                13.5|                11.0|1.1029411764705883|                1.2|               0.9|          0.25|           0.0|1.3333333333333333|            1.1875|0.9736355577216107|              52.0|           0.0|        1.0|              79.0|\n|         2|         3|                13.5|                11.0|1.1029411764705883|                1.2|               0.9|          0.25|           0.0|1.3333333333333333|            1.1875|0.9736355577216107|             148.0|           0.0|        1.0|             354.0|\n|         2|         3|                13.5|                11.0|1.1029411764705883|                1.2|               0.9|          0.25|           0.0|1.3333333333333333|            1.1875|0.9736355577216107|              52.0|           0.0|        1.0|             354.0|\n|         1|         1|                11.8|                9.75|             2.025|                0.5|1.4954248366013072|          0.25|           0.0|0.5599999999999999|0.9400000000000001|1.1101590412674596|              14.0|           0.0|        1.0|              79.0|\n|         1|         1|                11.8|                9.75|             2.025|                0.5|1.4954248366013072|          0.25|           0.0|0.5599999999999999|0.9400000000000001|1.1101590412674596|              70.0|           0.0|        1.0|              79.0|\n|         1|         1|                11.8|                9.75|             2.025|                0.5|1.4954248366013072|          0.25|           0.0|0.5599999999999999|0.9400000000000001|1.1101590412674596|              14.0|           0.0|        1.0|             354.0|\n|         1|         1|                11.8|                9.75|             2.025|                0.5|1.4954248366013072|          0.25|           0.0|0.5599999999999999|0.9400000000000001|1.1101590412674596|              70.0|           0.0|        1.0|             354.0|\n+----------+----------+--------------------+--------------------+------------------+-------------------+------------------+--------------+--------------+------------------+------------------+------------------+------------------+--------------+-----------+------------------+\nonly showing top 10 rows\n\n"
     ]
    }
   ],
   "source": [
    "spark_df.show(10)"
   ]
  },
  {
   "cell_type": "markdown",
   "metadata": {
    "application/vnd.databricks.v1+cell": {
     "cellMetadata": {
      "byteLimit": 2048000,
      "rowLimit": 10000
     },
     "inputWidgets": {},
     "nuid": "f0549eb0-8205-415d-86a8-8e4d0e5fb4a1",
     "showTitle": false,
     "title": ""
    }
   },
   "source": [
    "## Create Training and Testing Set: Load"
   ]
  },
  {
   "cell_type": "code",
   "execution_count": 0,
   "metadata": {
    "application/vnd.databricks.v1+cell": {
     "cellMetadata": {
      "byteLimit": 2048000,
      "rowLimit": 10000
     },
     "inputWidgets": {},
     "nuid": "e42de533-167d-4740-911c-f304dce732e2",
     "showTitle": false,
     "title": ""
    }
   },
   "outputs": [
    {
     "output_type": "display_data",
     "data": {
      "text/html": [
       "<div>\n",
       "<style scoped>\n",
       "    .dataframe tbody tr th:only-of-type {\n",
       "        vertical-align: middle;\n",
       "    }\n",
       "\n",
       "    .dataframe tbody tr th {\n",
       "        vertical-align: top;\n",
       "    }\n",
       "\n",
       "    .dataframe thead th {\n",
       "        text-align: right;\n",
       "    }\n",
       "</style>\n",
       "<table border=\"1\" class=\"dataframe\">\n",
       "  <thead>\n",
       "    <tr style=\"text-align: right;\">\n",
       "      <th></th>\n",
       "      <th>away_goals</th>\n",
       "      <th>home_goals</th>\n",
       "      <th>rank_team_faced_away</th>\n",
       "      <th>rank_team_faced_home</th>\n",
       "      <th>total_shots_r</th>\n",
       "      <th>prior_season_rank</th>\n",
       "      <th>possession_r</th>\n",
       "      <th>red_cards_away</th>\n",
       "      <th>red_cards_home</th>\n",
       "      <th>gk_saves_r</th>\n",
       "      <th>fouls_r</th>\n",
       "      <th>pass_accuracy_r</th>\n",
       "      <th>coach_id_homeIndex</th>\n",
       "      <th>league_idIndex</th>\n",
       "      <th>seasonIndex</th>\n",
       "      <th>coach_id_awayIndex</th>\n",
       "    </tr>\n",
       "  </thead>\n",
       "  <tbody>\n",
       "    <tr>\n",
       "      <th>0</th>\n",
       "      <td>2</td>\n",
       "      <td>0</td>\n",
       "      <td>8.0</td>\n",
       "      <td>16.0</td>\n",
       "      <td>3.250000</td>\n",
       "      <td>0.352941</td>\n",
       "      <td>1.14</td>\n",
       "      <td>0.00</td>\n",
       "      <td>0.0</td>\n",
       "      <td>1.000000</td>\n",
       "      <td>1.5000</td>\n",
       "      <td>1.226310</td>\n",
       "      <td>102.0</td>\n",
       "      <td>0.0</td>\n",
       "      <td>1.0</td>\n",
       "      <td>79.0</td>\n",
       "    </tr>\n",
       "    <tr>\n",
       "      <th>1</th>\n",
       "      <td>2</td>\n",
       "      <td>0</td>\n",
       "      <td>8.0</td>\n",
       "      <td>16.0</td>\n",
       "      <td>3.250000</td>\n",
       "      <td>0.352941</td>\n",
       "      <td>1.14</td>\n",
       "      <td>0.00</td>\n",
       "      <td>0.0</td>\n",
       "      <td>1.000000</td>\n",
       "      <td>1.5000</td>\n",
       "      <td>1.226310</td>\n",
       "      <td>102.0</td>\n",
       "      <td>0.0</td>\n",
       "      <td>1.0</td>\n",
       "      <td>354.0</td>\n",
       "    </tr>\n",
       "    <tr>\n",
       "      <th>2</th>\n",
       "      <td>2</td>\n",
       "      <td>3</td>\n",
       "      <td>13.5</td>\n",
       "      <td>11.0</td>\n",
       "      <td>1.102941</td>\n",
       "      <td>1.200000</td>\n",
       "      <td>0.90</td>\n",
       "      <td>0.25</td>\n",
       "      <td>0.0</td>\n",
       "      <td>1.333333</td>\n",
       "      <td>1.1875</td>\n",
       "      <td>0.973636</td>\n",
       "      <td>148.0</td>\n",
       "      <td>0.0</td>\n",
       "      <td>1.0</td>\n",
       "      <td>79.0</td>\n",
       "    </tr>\n",
       "    <tr>\n",
       "      <th>3</th>\n",
       "      <td>2</td>\n",
       "      <td>3</td>\n",
       "      <td>13.5</td>\n",
       "      <td>11.0</td>\n",
       "      <td>1.102941</td>\n",
       "      <td>1.200000</td>\n",
       "      <td>0.90</td>\n",
       "      <td>0.25</td>\n",
       "      <td>0.0</td>\n",
       "      <td>1.333333</td>\n",
       "      <td>1.1875</td>\n",
       "      <td>0.973636</td>\n",
       "      <td>52.0</td>\n",
       "      <td>0.0</td>\n",
       "      <td>1.0</td>\n",
       "      <td>79.0</td>\n",
       "    </tr>\n",
       "    <tr>\n",
       "      <th>4</th>\n",
       "      <td>2</td>\n",
       "      <td>3</td>\n",
       "      <td>13.5</td>\n",
       "      <td>11.0</td>\n",
       "      <td>1.102941</td>\n",
       "      <td>1.200000</td>\n",
       "      <td>0.90</td>\n",
       "      <td>0.25</td>\n",
       "      <td>0.0</td>\n",
       "      <td>1.333333</td>\n",
       "      <td>1.1875</td>\n",
       "      <td>0.973636</td>\n",
       "      <td>148.0</td>\n",
       "      <td>0.0</td>\n",
       "      <td>1.0</td>\n",
       "      <td>354.0</td>\n",
       "    </tr>\n",
       "  </tbody>\n",
       "</table>\n",
       "</div>"
      ]
     },
     "metadata": {
      "application/vnd.databricks.v1+output": {
       "addedWidgets": {},
       "arguments": {},
       "data": "<div>\n<style scoped>\n    .dataframe tbody tr th:only-of-type {\n        vertical-align: middle;\n    }\n\n    .dataframe tbody tr th {\n        vertical-align: top;\n    }\n\n    .dataframe thead th {\n        text-align: right;\n    }\n</style>\n<table border=\"1\" class=\"dataframe\">\n  <thead>\n    <tr style=\"text-align: right;\">\n      <th></th>\n      <th>away_goals</th>\n      <th>home_goals</th>\n      <th>rank_team_faced_away</th>\n      <th>rank_team_faced_home</th>\n      <th>total_shots_r</th>\n      <th>prior_season_rank</th>\n      <th>possession_r</th>\n      <th>red_cards_away</th>\n      <th>red_cards_home</th>\n      <th>gk_saves_r</th>\n      <th>fouls_r</th>\n      <th>pass_accuracy_r</th>\n      <th>coach_id_homeIndex</th>\n      <th>league_idIndex</th>\n      <th>seasonIndex</th>\n      <th>coach_id_awayIndex</th>\n    </tr>\n  </thead>\n  <tbody>\n    <tr>\n      <th>0</th>\n      <td>2</td>\n      <td>0</td>\n      <td>8.0</td>\n      <td>16.0</td>\n      <td>3.250000</td>\n      <td>0.352941</td>\n      <td>1.14</td>\n      <td>0.00</td>\n      <td>0.0</td>\n      <td>1.000000</td>\n      <td>1.5000</td>\n      <td>1.226310</td>\n      <td>102.0</td>\n      <td>0.0</td>\n      <td>1.0</td>\n      <td>79.0</td>\n    </tr>\n    <tr>\n      <th>1</th>\n      <td>2</td>\n      <td>0</td>\n      <td>8.0</td>\n      <td>16.0</td>\n      <td>3.250000</td>\n      <td>0.352941</td>\n      <td>1.14</td>\n      <td>0.00</td>\n      <td>0.0</td>\n      <td>1.000000</td>\n      <td>1.5000</td>\n      <td>1.226310</td>\n      <td>102.0</td>\n      <td>0.0</td>\n      <td>1.0</td>\n      <td>354.0</td>\n    </tr>\n    <tr>\n      <th>2</th>\n      <td>2</td>\n      <td>3</td>\n      <td>13.5</td>\n      <td>11.0</td>\n      <td>1.102941</td>\n      <td>1.200000</td>\n      <td>0.90</td>\n      <td>0.25</td>\n      <td>0.0</td>\n      <td>1.333333</td>\n      <td>1.1875</td>\n      <td>0.973636</td>\n      <td>148.0</td>\n      <td>0.0</td>\n      <td>1.0</td>\n      <td>79.0</td>\n    </tr>\n    <tr>\n      <th>3</th>\n      <td>2</td>\n      <td>3</td>\n      <td>13.5</td>\n      <td>11.0</td>\n      <td>1.102941</td>\n      <td>1.200000</td>\n      <td>0.90</td>\n      <td>0.25</td>\n      <td>0.0</td>\n      <td>1.333333</td>\n      <td>1.1875</td>\n      <td>0.973636</td>\n      <td>52.0</td>\n      <td>0.0</td>\n      <td>1.0</td>\n      <td>79.0</td>\n    </tr>\n    <tr>\n      <th>4</th>\n      <td>2</td>\n      <td>3</td>\n      <td>13.5</td>\n      <td>11.0</td>\n      <td>1.102941</td>\n      <td>1.200000</td>\n      <td>0.90</td>\n      <td>0.25</td>\n      <td>0.0</td>\n      <td>1.333333</td>\n      <td>1.1875</td>\n      <td>0.973636</td>\n      <td>148.0</td>\n      <td>0.0</td>\n      <td>1.0</td>\n      <td>354.0</td>\n    </tr>\n  </tbody>\n</table>\n</div>",
       "datasetInfos": [],
       "metadata": {},
       "removedWidgets": [],
       "textData": null,
       "type": "htmlSandbox"
      }
     },
     "output_type": "display_data"
    }
   ],
   "source": [
    "pandas_df = spark_df.toPandas()\n",
    "pandas_df.head(5)"
   ]
  },
  {
   "cell_type": "code",
   "execution_count": 0,
   "metadata": {
    "application/vnd.databricks.v1+cell": {
     "cellMetadata": {
      "byteLimit": 2048000,
      "rowLimit": 10000
     },
     "inputWidgets": {},
     "nuid": "0c1516d0-b7fa-4901-a874-26d514d1125d",
     "showTitle": false,
     "title": ""
    }
   },
   "outputs": [],
   "source": [
    "targets1 = pandas_df[\"away_goals\"].values.flatten()\n",
    "targets2 = pandas_df[\"home_goals\"].values.flatten()\n",
    "\n",
    "features = pandas_df.drop([\"away_goals\", \"home_goals\"], axis=1).values"
   ]
  },
  {
   "cell_type": "code",
   "execution_count": 0,
   "metadata": {
    "application/vnd.databricks.v1+cell": {
     "cellMetadata": {
      "byteLimit": 2048000,
      "rowLimit": 10000
     },
     "inputWidgets": {},
     "nuid": "9319da9a-dd73-47d4-a0f5-100afaa99c6b",
     "showTitle": false,
     "title": ""
    }
   },
   "outputs": [
    {
     "output_type": "stream",
     "name": "stdout",
     "output_type": "stream",
     "text": [
      "Out[14]: (18987, 1808, 1808)"
     ]
    }
   ],
   "source": [
    "test_size = int(0.08 * 22603)  # represents size of validation set\n",
    "val_size = test_size\n",
    "train_size = 22603 - test_size * 2\n",
    "train_size, val_size, test_size"
   ]
  },
  {
   "cell_type": "code",
   "execution_count": 0,
   "metadata": {
    "application/vnd.databricks.v1+cell": {
     "cellMetadata": {
      "byteLimit": 2048000,
      "rowLimit": 10000
     },
     "inputWidgets": {},
     "nuid": "018f9f81-1b81-4147-9f05-78ed6565615a",
     "showTitle": false,
     "title": ""
    }
   },
   "outputs": [],
   "source": [
    "dataset = torch.utils.data.TensorDataset(\n",
    "    torch.tensor(features).float(),\n",
    "    torch.tensor(targets1).unsqueeze(-1),\n",
    "    torch.tensor(targets2).unsqueeze(-1),\n",
    ")\n",
    "train_ds, val_ds, test_ds = random_split(dataset, [train_size, val_size, test_size])\n",
    "batch_size = 256"
   ]
  },
  {
   "cell_type": "code",
   "execution_count": 0,
   "metadata": {
    "application/vnd.databricks.v1+cell": {
     "cellMetadata": {
      "byteLimit": 2048000,
      "rowLimit": 10000
     },
     "inputWidgets": {},
     "nuid": "6b4d0876-385d-4691-aa46-c15b9663060c",
     "showTitle": false,
     "title": ""
    }
   },
   "outputs": [],
   "source": [
    "train_loader = DataLoader(\n",
    "    train_ds, batch_size, shuffle=True, num_workers=4, pin_memory=False\n",
    ")\n",
    "val_loader = DataLoader(val_ds, batch_size * 2, num_workers=4, pin_memory=False)\n",
    "test_loader = DataLoader(test_ds, batch_size * 2, num_workers=4, pin_memory=False)"
   ]
  },
  {
   "cell_type": "code",
   "execution_count": 0,
   "metadata": {
    "application/vnd.databricks.v1+cell": {
     "cellMetadata": {
      "byteLimit": 2048000,
      "rowLimit": 10000
     },
     "inputWidgets": {},
     "nuid": "b545a6aa-e8d1-4aed-b300-d7e26fa6e189",
     "showTitle": false,
     "title": ""
    }
   },
   "outputs": [
    {
     "output_type": "stream",
     "name": "stdout",
     "output_type": "stream",
     "text": [
      "torch.Size([512, 14]) torch.Size([512, 1]) torch.Size([512, 1])\n"
     ]
    }
   ],
   "source": [
    "for x, y1, y2 in test_loader:\n",
    "    print(x.shape, y1.shape, y2.shape)\n",
    "    break"
   ]
  },
  {
   "cell_type": "code",
   "execution_count": 0,
   "metadata": {
    "application/vnd.databricks.v1+cell": {
     "cellMetadata": {
      "byteLimit": 2048000,
      "rowLimit": 10000
     },
     "inputWidgets": {},
     "nuid": "ae75c411-97ee-4e47-b09c-5e0aa9a4cdbd",
     "showTitle": false,
     "title": ""
    }
   },
   "outputs": [
    {
     "output_type": "stream",
     "name": "stdout",
     "output_type": "stream",
     "text": [
      "Out[18]: <torch.utils.data.dataloader.DataLoader at 0x7f689d1f4d60>"
     ]
    }
   ],
   "source": [
    "train_loader"
   ]
  },
  {
   "cell_type": "markdown",
   "metadata": {
    "application/vnd.databricks.v1+cell": {
     "cellMetadata": {
      "byteLimit": 2048000,
      "rowLimit": 10000
     },
     "inputWidgets": {},
     "nuid": "c0014efd-9e29-48a3-bacb-09fdf79c59aa",
     "showTitle": false,
     "title": ""
    }
   },
   "source": [
    "## Setup PyTorch Model"
   ]
  },
  {
   "cell_type": "code",
   "execution_count": 0,
   "metadata": {
    "application/vnd.databricks.v1+cell": {
     "cellMetadata": {
      "byteLimit": 2048000,
      "rowLimit": 10000
     },
     "inputWidgets": {},
     "nuid": "52f273a6-1360-46e2-a400-3703b466305d",
     "showTitle": false,
     "title": ""
    }
   },
   "outputs": [],
   "source": [
    "input_size = 14\n",
    "output_size = 1"
   ]
  },
  {
   "cell_type": "code",
   "execution_count": 0,
   "metadata": {
    "application/vnd.databricks.v1+cell": {
     "cellMetadata": {
      "byteLimit": 2048000,
      "rowLimit": 10000
     },
     "inputWidgets": {},
     "nuid": "3e8f6b38-ec38-42c4-ac7c-efe5771e4d43",
     "showTitle": false,
     "title": ""
    }
   },
   "outputs": [],
   "source": [
    "output_size = 1\n",
    "\n",
    "\n",
    "class FootballModelMk2(nn.Module):\n",
    "    def __init__(self, input_size, output_size):\n",
    "        super().__init__()\n",
    "        self.fc1 = nn.Linear(input_size, 64)\n",
    "        self.fc2 = nn.Linear(64, 32)\n",
    "        self.fc3_1 = nn.Linear(32, output_size)  # output for target1\n",
    "        self.fc3_2 = nn.Linear(32, output_size)  # output for target2\n",
    "        self.dp = nn.Dropout(0.5)\n",
    "        self.bn1 = nn.BatchNorm1d(64)\n",
    "        self.bn2 = nn.BatchNorm1d(32)\n",
    "\n",
    "    def forward(self, x):\n",
    "        x = F.relu(self.bn1(self.fc1(x)))\n",
    "        x = self.dp(x)\n",
    "        x = F.relu(self.bn2(self.fc2(x)))\n",
    "        x = self.dp(x)\n",
    "        out1 = self.fc3_1(x)  # prediction for target1\n",
    "        out2 = self.fc3_2(x)  # prediction for target2\n",
    "        return out1, out2"
   ]
  },
  {
   "cell_type": "code",
   "execution_count": 0,
   "metadata": {
    "application/vnd.databricks.v1+cell": {
     "cellMetadata": {
      "byteLimit": 2048000,
      "rowLimit": 10000
     },
     "inputWidgets": {},
     "nuid": "2252f4d7-d259-41ac-a1d2-063131b38c87",
     "showTitle": false,
     "title": ""
    }
   },
   "outputs": [],
   "source": [
    "crit = nn.L1Loss()  # criterion\n",
    "opt_func = torch.optim.SGD  # optimizer function (w/o params or lr)"
   ]
  },
  {
   "cell_type": "code",
   "execution_count": 0,
   "metadata": {
    "application/vnd.databricks.v1+cell": {
     "cellMetadata": {
      "byteLimit": 2048000,
      "rowLimit": 10000
     },
     "inputWidgets": {},
     "nuid": "34054f89-4466-429f-9a25-2d0423e70e0b",
     "showTitle": false,
     "title": ""
    }
   },
   "outputs": [],
   "source": [
    "def fit(epochs, lr, model, train_loader, val_loader, crit, opt_func, device):\n",
    "    history = []\n",
    "    # define optimizer\n",
    "    opt = opt_func(model.parameters(), lr=lr)\n",
    "    # loop for num of epochs\n",
    "    for epoch in range(epochs):\n",
    "        # training per epoch (iterate through each batch)\n",
    "        for inputs, target1, target2 in train_loader:\n",
    "            # put inputs to the same device as model (GPU or CPU)\n",
    "            inputs, target1, target2 = (\n",
    "                inputs.to(device),\n",
    "                target1.to(device),\n",
    "                target2.to(device),\n",
    "            )\n",
    "            # using optimizer & loss\n",
    "            opt.zero_grad()\n",
    "            (outs1, outs2), (loss1, loss2) = step(inputs, target1, target2, model, crit)\n",
    "            loss = (\n",
    "                loss1 + loss2\n",
    "            )  # consider if this is the appropriate way to handle multiple losses\n",
    "            loss.backward()\n",
    "            opt.step()\n",
    "        # evaluate model on validation set every epoch\n",
    "        val_results = evaluate(model, val_loader, crit, device)\n",
    "        # printing as output every 5 epochs\n",
    "        if (epoch + 1) % 5 == 0 or (epoch + 1) == epochs:\n",
    "            print(f'Epoch #{epoch + 1} ==> Val Loss: {val_results[\"avg_loss\"]}')\n",
    "        history.append(val_results)\n",
    "    return history\n",
    "\n",
    "\n",
    "def evaluate(model, loader, crit, device):\n",
    "    losses = []\n",
    "    accuracies = []\n",
    "    # define the tolerance level\n",
    "    tol = 0.4\n",
    "    model.eval()\n",
    "    # tracking gradient not needed\n",
    "    with torch.no_grad():\n",
    "        # looping over data loader\n",
    "        for inputs, target1, target2 in train_loader:\n",
    "            inputs, target1, target2 = (\n",
    "                inputs.to(device),\n",
    "                target1.to(device),\n",
    "                target2.to(device),\n",
    "            )\n",
    "            (outs1, outs2), (loss1, loss2) = step(\n",
    "                inputs, target1, target2, model, crit, evaluate=True\n",
    "            )\n",
    "            loss = (\n",
    "                loss1 + loss2\n",
    "            )  # consider if this is the appropriate way to handle multiple losses\n",
    "            losses.append(loss.item())\n",
    "            acc1 = ((outs1 - target1).abs() <= tol).float().mean()\n",
    "            acc2 = ((outs2 - target2).abs() <= tol).float().mean()\n",
    "            accuracies.append((acc1 + acc2) / 2)  # average of the two accuracies\n",
    "\n",
    "    avg_loss = sum(losses) / len(losses)\n",
    "    avg_acc = sum(accuracies) / len(accuracies)  # compute average \"accuracy\"\n",
    "    return {\"avg_loss\": avg_loss, \"avg_acc\": avg_acc}\n",
    "\n",
    "\n",
    "# function to input features into model (used for training + validation)\n",
    "def step(inputs, target1, target2, model, crit, evaluate=False):\n",
    "    outs1, outs2 = model(inputs)\n",
    "    loss1 = crit(outs1, target1)\n",
    "    loss2 = crit(outs2, target2)\n",
    "    return (outs1, outs2), (loss1, loss2)"
   ]
  },
  {
   "cell_type": "markdown",
   "metadata": {
    "application/vnd.databricks.v1+cell": {
     "cellMetadata": {
      "byteLimit": 2048000,
      "rowLimit": 10000
     },
     "inputWidgets": {},
     "nuid": "cb9d62c2-9439-4e96-9cb0-cc7d1aac9481",
     "showTitle": false,
     "title": ""
    }
   },
   "source": [
    "### Use GPU if available"
   ]
  },
  {
   "cell_type": "code",
   "execution_count": 0,
   "metadata": {
    "application/vnd.databricks.v1+cell": {
     "cellMetadata": {
      "byteLimit": 2048000,
      "rowLimit": 10000
     },
     "inputWidgets": {},
     "nuid": "93125de7-8881-4e9a-b639-6d45fc8a43e3",
     "showTitle": false,
     "title": ""
    }
   },
   "outputs": [],
   "source": [
    "if torch.cuda.is_available():\n",
    "    device = torch.device(\"cuda\")\n",
    "else:\n",
    "    device = torch.device(\"cpu\")"
   ]
  },
  {
   "cell_type": "code",
   "execution_count": 0,
   "metadata": {
    "application/vnd.databricks.v1+cell": {
     "cellMetadata": {
      "byteLimit": 2048000,
      "rowLimit": 10000
     },
     "inputWidgets": {},
     "nuid": "a658e05d-9e86-4ffe-91af-23390c5d6e59",
     "showTitle": false,
     "title": ""
    }
   },
   "outputs": [
    {
     "output_type": "stream",
     "name": "stdout",
     "output_type": "stream",
     "text": [
      "Out[24]: device(type='cpu')"
     ]
    }
   ],
   "source": [
    "device"
   ]
  },
  {
   "cell_type": "code",
   "execution_count": 0,
   "metadata": {
    "application/vnd.databricks.v1+cell": {
     "cellMetadata": {
      "byteLimit": 2048000,
      "rowLimit": 10000
     },
     "inputWidgets": {},
     "nuid": "80f4892a-de05-4c9e-b023-e1fee5715978",
     "showTitle": false,
     "title": ""
    }
   },
   "outputs": [
    {
     "output_type": "stream",
     "name": "stdout",
     "output_type": "stream",
     "text": [
      "Out[25]: FootballModelMk2(\n  (fc1): Linear(in_features=14, out_features=64, bias=True)\n  (fc2): Linear(in_features=64, out_features=32, bias=True)\n  (fc3_1): Linear(in_features=32, out_features=1, bias=True)\n  (fc3_2): Linear(in_features=32, out_features=1, bias=True)\n  (dp): Dropout(p=0.5, inplace=False)\n  (bn1): BatchNorm1d(64, eps=1e-05, momentum=0.1, affine=True, track_running_stats=True)\n  (bn2): BatchNorm1d(32, eps=1e-05, momentum=0.1, affine=True, track_running_stats=True)\n)"
     ]
    }
   ],
   "source": [
    "model = FootballModelMk2(input_size, output_size).to(device)\n",
    "model"
   ]
  },
  {
   "cell_type": "markdown",
   "metadata": {
    "application/vnd.databricks.v1+cell": {
     "cellMetadata": {
      "byteLimit": 2048000,
      "rowLimit": 10000
     },
     "inputWidgets": {},
     "nuid": "c98a3a77-0f6f-477e-a66b-0506879b5728",
     "showTitle": false,
     "title": ""
    }
   },
   "source": [
    "### Visualization Setup"
   ]
  },
  {
   "cell_type": "code",
   "execution_count": 0,
   "metadata": {
    "application/vnd.databricks.v1+cell": {
     "cellMetadata": {
      "byteLimit": 2048000,
      "rowLimit": 10000
     },
     "inputWidgets": {},
     "nuid": "d39f8264-8b59-45fd-8e2d-b9334a909afa",
     "showTitle": false,
     "title": ""
    }
   },
   "outputs": [],
   "source": [
    "import matplotlib.pyplot as plt\n",
    "\n",
    "\n",
    "def visualize(hist, acc=False):\n",
    "    losses = [x[\"avg_loss\"] for x in hist]\n",
    "    accs = [x[\"avg_acc\"] for x in hist]\n",
    "    if acc:\n",
    "        plt.plot(accs)\n",
    "        plt.ylabel(\"Accuracy (%)\")\n",
    "        plt.title(\"Accuracy over Epochs\")\n",
    "    else:\n",
    "        plt.plot(losses)\n",
    "        plt.ylabel(\"Losses\")\n",
    "        plt.title(\"Losses over Epochs\")\n",
    "    plt.xlabel(\"Epochs\")\n",
    "    plt.show()"
   ]
  },
  {
   "cell_type": "markdown",
   "metadata": {
    "application/vnd.databricks.v1+cell": {
     "cellMetadata": {
      "byteLimit": 2048000,
      "rowLimit": 10000
     },
     "inputWidgets": {},
     "nuid": "dfb1ca8c-20cc-4da3-b15e-ed733594bcbe",
     "showTitle": false,
     "title": ""
    }
   },
   "source": [
    "## Run Model"
   ]
  },
  {
   "cell_type": "code",
   "execution_count": 0,
   "metadata": {
    "application/vnd.databricks.v1+cell": {
     "cellMetadata": {
      "byteLimit": 2048000,
      "rowLimit": 10000
     },
     "inputWidgets": {},
     "nuid": "902bec62-c390-451c-8388-8c27d56015c2",
     "showTitle": false,
     "title": ""
    }
   },
   "outputs": [],
   "source": [
    "before_train = evaluate(model, train_loader, crit, device)\n",
    "before_train\n",
    "\n",
    "hist = [evaluate(model, val_loader, crit, device)]"
   ]
  },
  {
   "cell_type": "code",
   "execution_count": 0,
   "metadata": {
    "application/vnd.databricks.v1+cell": {
     "cellMetadata": {
      "byteLimit": 2048000,
      "rowLimit": 10000
     },
     "inputWidgets": {},
     "nuid": "736d6290-27a6-431f-b1f3-90a9d799076e",
     "showTitle": false,
     "title": ""
    }
   },
   "outputs": [
    {
     "output_type": "stream",
     "name": "stdout",
     "output_type": "stream",
     "text": [
      "Epoch #5 ==> Val Loss: 2.579696022669474\nEpoch #10 ==> Val Loss: 1.9158215745290121\nEpoch #15 ==> Val Loss: 1.8791439374287924\nEpoch #20 ==> Val Loss: 1.9340532302856446\nEpoch #25 ==> Val Loss: 1.959981582959493\n"
     ]
    }
   ],
   "source": [
    "hist += fit(25, 1e-3, model, train_loader, val_loader, crit, opt_func, device)"
   ]
  },
  {
   "cell_type": "code",
   "execution_count": 0,
   "metadata": {
    "application/vnd.databricks.v1+cell": {
     "cellMetadata": {
      "byteLimit": 2048000,
      "rowLimit": 10000
     },
     "inputWidgets": {},
     "nuid": "4eca2e38-689e-4c9b-81c0-28467baf8da9",
     "showTitle": false,
     "title": ""
    }
   },
   "outputs": [
    {
     "output_type": "stream",
     "name": "stdout",
     "output_type": "stream",
     "text": [
      "Epoch #5 ==> Val Loss: 1.853825608889262\nEpoch #10 ==> Val Loss: 1.8514896440505981\nEpoch #15 ==> Val Loss: 1.8547861067454021\nEpoch #20 ==> Val Loss: 1.8527833223342896\nEpoch #25 ==> Val Loss: 1.8515203619003295\nEpoch #30 ==> Val Loss: 1.8504618565241495\nEpoch #35 ==> Val Loss: 1.8504992850621542\nEpoch #40 ==> Val Loss: 1.8535820198059083\nEpoch #45 ==> Val Loss: 1.8579405117034913\nEpoch #50 ==> Val Loss: 1.854393180211385\n"
     ]
    }
   ],
   "source": [
    "hist += fit(50, 1e-4, model, train_loader, val_loader, crit, opt_func, device)"
   ]
  },
  {
   "cell_type": "code",
   "execution_count": 0,
   "metadata": {
    "application/vnd.databricks.v1+cell": {
     "cellMetadata": {
      "byteLimit": 2048000,
      "rowLimit": 10000
     },
     "inputWidgets": {},
     "nuid": "719d86f8-c90f-4574-b765-63188e77b542",
     "showTitle": false,
     "title": ""
    }
   },
   "outputs": [
    {
     "output_type": "stream",
     "name": "stdout",
     "output_type": "stream",
     "text": [
      "Out[30]: {'avg_loss': 1.8504217688242595, 'avg_acc': tensor(0.3245)}"
     ]
    }
   ],
   "source": [
    "after_train = evaluate(model, test_loader, crit, device)\n",
    "after_train"
   ]
  },
  {
   "cell_type": "code",
   "execution_count": 0,
   "metadata": {
    "application/vnd.databricks.v1+cell": {
     "cellMetadata": {
      "byteLimit": 2048000,
      "rowLimit": 10000
     },
     "inputWidgets": {},
     "nuid": "bbb37ccd-f014-4b96-b8ee-872d9102b1b1",
     "showTitle": false,
     "title": ""
    }
   },
   "outputs": [
    {
     "output_type": "display_data",
     "data": {
      "image/png": "[encoded data removed]"
     },
     "metadata": {
      "application/vnd.databricks.v1+output": {
       "addedWidgets": {},
       "arguments": {},
       "data": "data:image/png;base64,iVBORw0KGgoAAAANSUhEUgAAAX4AAAEWCAYAAABhffzLAAAAOXRFWHRTb2Z0d2FyZQBNYXRwbG90bGliIHZlcnNpb24zLjUuMSwgaHR0cHM6Ly9tYXRwbG90bGliLm9yZy/YYfK9AAAACXBIWXMAAAsTAAALEwEAmpwYAAAg5UlEQVR4nO3de5zcdX3v8df7NzObhBASICEkJBAuEohyEVMFoWK5VFFAW0+rVluotmhPj0r1tEJv6ml9HOvxtEJbbSneKoK1VKugIjcBOdJgglxCIvdAArlsCCH37O7M5/zx+87u7GZDls3OzmR+7+cj88jsby7fz8zsvn/f+f6+v99PEYGZmRVH1uoCzMxsfDn4zcwKxsFvZlYwDn4zs4Jx8JuZFYyD38ysYBz8ZgUj6WJJd7e6DmsdB781haQVks5pdR3tTtIbJdUkbRlyOa3VtVnnKre6ALOikFSOiL5hbnouIuaMe0FWWO7x27iSNEHS5yU9ly6flzQh3TZd0o2SNkraIOknkrJ028clPStps6RHJJ2dlmeSLpP0hKTnJX1L0kHptomSrknLN0r6maSZu6nreEl3pPs9LOnCtPx1ktZIKjXc99ckPTiC9udJCknvl/QMcPso3q87JP1vSfdK2iTpu/XnT7dfmOrdmO57fMNtcyV9W1J3qu0fhjz35yS9IOkpSec1LL9Y0pPpvX5K0ntebt3W3hz8Nt7+DDgVOBk4CXgt8Ofpto8Bq4AZwEzgT4GQNB/4H8AvRcQU4E3AivSYDwFvB84EZgMvAP+YbrsImArMBQ4GPghsH1qQpApwA3AzcEh6zm9Imh8Ri4CtwFkND/kt4NoRtF93JnB8qns0fgd4HzAL6AOuTHUfC1wHXEr+nv0AuEFSV1pR3Qg8DcwDDgO+2fCcrwMeAaYDnwW+pNzk9Pznpff69cD9o6zb2lVE+OLLmF/Ig/mcYZY/Abyl4ec3ASvS9f8FfBc4ZshjjgHWAecAlSG3LQfObvh5FtBLPoz5PuCnwIl7qPWXgTVA1rDsOuCT6fpfA19O16eQrwiOGEH784AAjnqJtt8I1ICNQy6T0+13AJ9puP8CoAcoAX8BfKvhtgx4Nj3naUA3UB6mzYuBxxt+3i/VeSgwObX/DmBSq3+PfGnOxT1+G2+zyXuhdU+nZQD/B3gcuDkNNVwGEBGPk/dqPwmsk/RNSfXHHAF8Jw11bCQP4ir5N4avAz8CvpmGlT6bevfD1bQyImpD6josXb8W+PU0JPXrwH0RUX8NL9V+3co9vCfPRcS0IZetu3n800CFvKc+6L1M9a9Mdc8Fno7htylAvqKrP25burp/aved5N+OVkv6vqTj9lC/7WMc/DbeniMPy7rD0zIiYnNEfCwijgIuBD5aH8uPiGsj4oz02AD+Jj1+JfmwRGNoToyIZyOiNyI+FRELyIcszicfNhmuprn17QkNdT2b2l5GHrDnMXiY5yXbb7jP3h4Cd+6QunqB9Qx5LyUp3ffZVNfhkl72BI6I+FFEnEv+7eUXwL+MvnRrRw5+a6ZK2sBav5TJh1D+XNIMSdOBvwSuAZB0vqRjUoC9SN5zrkmaL+ms1OPeQT5OX++d/xPwaUlHpOeYIelt6fqvSDohjXdvIg/Mxl593SJgG/AnkiqS3ghcwOAx8WuBjwBvAP69Yflu2x9D75W0QNJ+5MNh10dEFfgW8FZJZ6dvMh8DdpIPb90LrAY+I2lyev9P31NDkmZKelsa698JbGH498z2YQ5+a6YfkId0/fJJ8vHyxcCDwEPAfWkZwCuAW8nD5h7gCxHxY2AC8BnyXu4a8g2wl6fHXAF8j3x4aDPwX+QbLiEfs76ePPSXA3eSD/8MEhE95EF/XmrjC8DvRMQvGu52HflG2tsjYn3D8pdqf6Rma9d5/O9ouP3rwFfTa58IfDjV/QjwXuDvU90XABdERE9aMVxAvn3kGfKN5u8cQS0Z8FHybxMb0mv+g5f5eqzNKcInYjFrV5LuAK6JiKtbXYt1Dvf4zcwKxsFvZlYwHuoxMysY9/jNzApmnzhI2/Tp02PevHmtLsPMbJ+yZMmS9RExY+jyfSL4582bx+LFi1tdhpnZPkXS08Mt91CPmVnBOPjNzArGwW9mVjAOfjOzgnHwm5kVjIPfzKxgHPxmZgXT0cH/nZ+v4pr/GnYaq5lZYXV08N/wwGr+7Wd7OuudmVmxdHTwlzPRW/XJg8zMGnV08FfKmYPfzGyIzg7+TPRWfdhpM7NGHR385VJGn3v8ZmaDdHTwV0oZPe7xm5kN0uHBL/pq7vGbmTXq8ODP6O1z8JuZNero4C+XRG/NQz1mZo06Ovi7vHHXzGwXHR385SyjFlB1r9/MrF9HB3+lLADvxGVm1qCzgz/LX56D38xsQEcHf7mU9/j7PJffzKxfRwd/peQev5nZUB0e/GmM3xt3zcz6dXjwpx6/d+IyM+vX0cFfTsHvwzaYmQ3o6ODvqg/1eOOumVm/jg7+sqdzmpntoqODv1KuB797/GZmdZ0d/Jn33DUzG6qzgz/1+L0Dl5nZgI4O/rJ7/GZmu+jo4Peeu2ZmuypI8Huox8ysrqODv/8gbd6By8ysX0cHf1fq8ff4kA1mZv2aFvySvixpnaSlDcsOknSLpMfS/wc2q31o7PF7qMfMrK6ZPf6vAm8esuwy4LaIeAVwW/q5aepj/D7vrpnZgKYFf0TcBWwYsvhtwNfS9a8Bb29W+zBwBq4eb9w1M+s33mP8MyNidbq+Bpi5uztKukTSYkmLu7u7R9VY/Zy77vGbmQ1o2cbdiAhgt13xiLgqIhZGxMIZM2aMqg0fpM3MbFfjHfxrJc0CSP+va2ZjFR+W2cxsF+Md/N8DLkrXLwK+28zGJFHO5B6/mVmDZk7nvA64B5gvaZWk9wOfAc6V9BhwTvq5qcoleTqnmVmDcrOeOCLevZubzm5Wm8OplDLvwGVm1qCj99yFPPh9yAYzswEFCH75ePxmZg06PvjLWUaPN+6amfXr+ODvKmfu8ZuZNej44Pd0TjOzwTo++CulzDtwmZk1KEDwu8dvZtao44O/7OmcZmaDdHzwV0qit89DPWZmdQUI/oxe9/jNzPoVIvg9ndPMbEDHB7+nc5qZDdbxwV8pZw5+M7MGnR/8mTyP38ysQecHfynzOXfNzBp0fPCXSxk97vGbmfXr+ODvKsk7cJmZNej44C+XMnp9Bi4zs34FCH7R63Pumpn16/jg7yp5OqeZWaOOD/5ylhEBVff6zcyAAgR/pSwA9/rNzJLOD/4sf4kOfjOzXOcHfynv8ftAbWZmuY4P/nLJPX4zs0YdH/xd9eD3xl0zM6AAwV9OQz3eicvMLFeA4M9fog/bYGaW6/jg70o9/h6fd9fMDChA8Jcz9/jNzBp1fPBXyvVZPe7xm5lBEYI/8567ZmaNWhL8kv5I0sOSlkq6TtLEZrVV7/F7By4zs9y4B7+kw4APAwsj4lVACXhXs9oru8dvZjZIq4Z6ysAkSWVgP+C5ZjVU8Z67ZmaDjHvwR8SzwOeAZ4DVwIsRcfPQ+0m6RNJiSYu7u7tH3d5A8Huox8wMWjPUcyDwNuBIYDYwWdJ7h94vIq6KiIURsXDGjBmjbq//IG2ezmlmBrRmqOcc4KmI6I6IXuDbwOub1Vi9x9/jQzaYmQGtCf5ngFMl7SdJwNnA8mY1Vu7v8Xuox8wMWjPGvwi4HrgPeCjVcFWz2vPGXTOzwcqtaDQiPgF8YjzaGjgDl3v8ZmZQhD13y/UzcLnHb2YGBQj+ss+5a2Y2SMcHf306p4d6zMxyHR/8kihnco/fzCzp+OCHfGaPp3OameUKEfzlkrwDl5lZUojg7yplPmSDmVlSiOAvl0Svz7lrZgaMMPgl/YakKen6n0v6tqRTmlva2ClnGb3u8ZuZASPv8f9FRGyWdAb5Qda+BHyxeWWNra5y5jNwmZklIw3+avr/rcBVEfF9oKs5JY09T+c0Mxsw0uB/VtI/A+8EfiBpwst4bMtVSpl34DIzS0Ya3r8J/Ah4U0RsBA4C/rhZRY21Ssk9fjOzuhEFf0RsA9YBZ6RFfcBjzSpqrFU8ndPMrN9IZ/V8Avg4cHlaVAGuaVZRY83TOc3MBox0qOfXgAuBrQAR8RwwpVlFjbVKydM5zczqRhr8PRERQABImty8ksZevnHXwW9mBiMP/m+lWT3TJP0+cCvwL80ra2yVM3kev5lZMqJTL0bE5ySdC2wC5gN/GRG3NLWyMVQpZ/S4x29mBoww+NPQzu0RcYuk+cB8SZWI6G1ueWOj4h6/mVm/kQ713AVMkHQYcBPw28BXm1XUWKuUMp9z18wsGWnwK83l/3XgixHxG8Arm1fW2CqXMnrc4zczA15G8Es6DXgP8P20rNScksZeV0negcvMLBlp8F9KvvPWdyLiYUlHAT9uWlVjrFzK6PUZuMzMgJHP6rkTuBNAUgasj4gPN7OwsZTvwOWhHjMzGPkhG66VdECa3bMUWCbJB2kzM9sHjXSoZ0FEbALeDvwQOJJ8Zs8+oVLKiICqe/1mZiMO/oqkCnnwfy/N399nUrRcEoB7/WZmjDz4/xlYAUwG7pJ0BPlevPuESpa/TAe/mdnIN+5eCVzZsOhpSb/SnJLGXiX1+L33rpnZyDfuTpX0t5IWp8v/Je/97xPKJff4zczqRjrU82VgM/kpGH+TfJjnK80qaqx11YPfG3fNzEY21AMcHRHvaPj5U5LuH22jkqYBVwOvIt9I/L6IuGe0z7cn/Rt3vROXmdmIe/zbJdXPt4uk04Hte9HuFcBNEXEccBKwfC+ea48qqcfvwzaYmY28x/9B4F8lTU0/vwBcNJoG03O8AbgYICJ6gJ7RPNdI1Tfu9vi8u2ZmI+vxR8QDEXEScCJwYkS8GjhrlG0eCXQDX5H0c0lXD3cqR0mX1Dcmd3d3j7KpnHv8ZmYDRjrUA0BEbEp78AJ8dJRtloFTyA/v/GryE7hfNkxbV0XEwohYOGPGjFE2lRr0rB4zs34vK/iH0CgftwpYFRGL0s/Xk68ImqbSv+euh3rMzPYm+EeVohGxBliZTuEIcDawbC/q2KOKe/xmZv1ecuOupM0MH/ACJu1Fux8CviGpC3gS+N29eK49Kmfec9fMrO4lgz8ipjSj0Yi4H1jYjOcejnv8ZmYD9maoZ58xEPzu8ZuZFST401CPp3OamRUl+POX2eNDNpiZFSv4+3yQNjOzYgS/z8BlZjagEMHvjbtmZgMKEvzu8ZuZ1RUi+MvpnLt9Dn4zs2IEv4/VY2Y2oBDBL4lyJg/1mJlRkOCHfAOvp3OamRUo+MsleQcuMzMKFPxdpcyHbDAzo0DBXy6JXp9z18ysOMFfKWX0usdvZlaw4Pd0TjOzIgW/vAOXmRkFCv5ylnkev5kZBQr+Skke6jEzo1DB7+mcZmZQoOD3dE4zs1xhgt/TOc3McsUKfm/cNTMrUvCLPm/cNTMrTvCXSxk97vGbmRUn+LtKmXv8ZmYUKPh9IhYzs1xxgt/H6jEzAwoU/F0leQcuMzMKFPzlUkavz8BlZlac4M934PJQj5lZgYLfG3fNzKCFwS+pJOnnkm4cj/YqpYwIqLrXb2YF18oe/0eA5ePVWLkkAPf6zazwWhL8kuYAbwWuHq82u0r5S3Xwm1nRtarH/3ngT4DdprCkSyQtlrS4u7t7rxssZ/Uev4d6zKzYxj34JZ0PrIuIJS91v4i4KiIWRsTCGTNm7HW7lXL+Un3eXTMrulb0+E8HLpS0AvgmcJaka5rdaCXLX6oP1GZmRTfuwR8Rl0fEnIiYB7wLuD0i3tvsdusbd32gNjMrugLN409DPT5sg5kVXLmVjUfEHcAd49FWJfX4e3zeXTMrOPf4zcwKpjDBX/Y8fjMzoEDBXyl5Hr+ZGRQq+N3jNzODAga/p3OaWdEVJvjrh2zwDlxmVnSFCf6usnv8ZmZQoOCv9/g9ndPMiq4wwV8f4+/xeXfNrOAKF/x9PgOXmRVcYYLfZ+AyM8sVJvgH5vG7x29mxVag4HeP38wMChX8PgOXmRkUKPgHduDyUI+ZFVthgl8SlZLc4zezwitM8AOUs8xj/GZWeMUK/pI8q8fMCq9Qwd9VynzIBjMrvEIFf7kken3OXTMruEIFf6WU0esev5kVXPGC32P8ZlZwBQv+vZvOef/KjXzg64vZ0Vsdw6rMzMZXoYJ/b6dzXv2TJ/nRw2v56RPrx7AqM7PxVajgr5RHP9SzraeP25avA+CWZWvHsiwzs3FVrODPNOoe/63L17G9t8rcgyZx6/J11HxcfzPbRxUr+EvZqM+5e8MDzzHzgAn80TnH0r15J/ev2ji2xZmZjZNCBX+5pFFN53xxey93PtLNW0+YzdnHzaSUycM9ZrbPKlTw59M58+Cv1YL/evJ5fvzIOiJe+lvAzQ+voada44KTZjF1vwqnHnUQNz+8ZjxKNjMbc+VWFzCeKiWxcVsvf3fLo/zHfatY9cJ2AE4/5mA+/fYTmDd98rCPu/HB1cw5cBInz50GwLnHz+STNyzjye4tHDVj//Eq38xsTBSqx99VLrHqhe1ceftjHDl9Mp9/58n81dteyQMrX+RNn7+LL9zx+C4bfzds7eHux9dzwUmzkfJj+p+zYCbg2T1mtm8qVI//93/5SE6aM5W3nDCL2dMm9S8/d8GhfOJ7S/nsTY9wwwOrueJdJ3PszCkA/HDpaqq14IITZ/fff86B+7Fg1gHcsmwtHzjz6GHb2tFb5QcPrebOR7v56LnHcsTBw3+bMDMbb+Me/JLmAv8KzAQCuCoirhiPtk+cM40T50zbZfmhUyfyz7+9kJuWruHPvvMQ5//93Vx+3nFc/Pp53PDAcxw9YzLHz5oy6DHnLpjJlbc/xvotO5m+/4T+5U8/v5VrFz3Dtxav5IVtvUiw5OkXuP6Dr+fQqROb/RLNzPaoFUM9fcDHImIBcCrwh5IWtKCOXbz5VYdy06Vv4IxjpvOpG5bxnqsXseipDYOGeerOXTCTCLg97dS1fstOLvuPB3nj5+7g6ruf4tSjDuba33sd//nfT2fjtl5++0uL2LC1pxUvy8xskHHv8UfEamB1ur5Z0nLgMGDZeNcynBlTJvClixZyzaJn+PT3lxEB5zcM89S9cvYBHDZtEj9cuppNO3q54rbH2N5T5X2nH8nv//JRg3r3V1+0kIu+fC8Xf+VevvF7r2PKxMqwbUcEazbtYOWG7Ty3cTvPbtxO9+advPrwaZz3qll0lTtjk8yO3ioTK6VWl2FWWNrTVMamNi7NA+4CXhURm4bcdglwCcDhhx/+mqeffnrc63uiewuPrtnMeSfMGvb2T3x3KV+7J6/rzGNn8BfnL+CYQ4af5XPb8rV84OtLeM0RB/LeU49gUqXEfl0lSpl4+LlNLHnmBZaseIE1m3YMetykSontvVWm79/Fu197OL/1usM5aHIXzzy/jSfXb2XF+q3MmDKB044+mFlTB7ZbbNrRy63L1vLDpWsoZ+LNrzqUs4+fyf4TBtb19RVNBIO2edS9uL2XHy1dw+oXd3D28YfwytkH7PLNZ6SqteDW5Wv58t1PseipDZy7YCb/81fnM//QKXt+sJmNiqQlEbFwl+WtCn5J+wN3Ap+OiG+/1H0XLlwYixcvHp/CXoZH127mr25cxsWvn8dZxx2yx1D87v3P8tFvPUB1mMM9HDZtEqcccSCvOXwaRx+yP7OmTmL2tIlMLJe4+/H1/Os9K7jtF+uotzDcESOOmj6ZU48+mHWbdnDXo+vpqdaYPXUi1QjWbtpJVznjzGNncNi0SSxfvYlfrNnMi9t7AZh70CROPfJgTjv6YEqZuOGB1dz1aDc9DbOcjpw+mbeeMItTjpjGk91beXTtZh5Zu4V1m3ZwyJQJHDp1IrOmTmLmAROZWMnoKmd0lTKe39rDNxY9zcoN2zls2iTOnD+DG+5/ji09ffzayYdx6TnHcvjB+1GrBdUIahFUsowsG91KZrzVakFvrUY5y8jEqFeOuxMRRICa8Nw2diKCai0oZWqbz6mtgl9SBbgR+FFE/O2e7t+uwT8aG7b2sGHrTrb1VNnWU2VnX41jZ+4/qLe+Oys3bOPfl6wC8pA/cvpk5h08mVUbt3HPE8/z0yeeZ9GTzzN1UoW3nDCLt5w4i5PTxuz7nnmB7z+0mh8+tIZNO3qZf+gUjjv0AI6fNYVq2plt0VMb2LgtXxHMPGAC5584mwtPms3cg/bjpqVr+P5Dz3HPE8/3r3Sm79/FsTOncOjUiXRv3snqF3eweuN2tvbsetjqX5p3IO87/UjOXTCTcinjha09/NOdT/DVn65gZ18NCYb+KnaVMiaUMyZUMiKgr5b/YdVPnylEJsgkapGvNKrpPplEKROVUkYpExFBLaCvVqNWAwTlTJQkSqX8/3qwinzF2lut0dNXo6daIyKolLJ0yf+we/pq7Oyr7nLgv1J6XvJ/AP311C+ZBOSBHtBfX60W/a+lVkv1pqeX8p0QuxpqaPz7rT93Ocsol/KWI6CWVhxDRURqG4Kgmtrrqwa91RpBfnyrcmoP8mNd9VVr9NbywrvK+WfUVR5os65WS+9htUZvX42+hs9F6XOr52P9kf31pILL6fMr979n+euppferbuj7LOXvRy2CarX+u1F/n/PXXasFUv47VA/rTPnvlRo+u0aSyDIoSWSZqNWCrT1Vtu3sY1tvtf99rtdcrn8m6XWUUhtZej1S/m04/9wZ9Dtc7wjd+KEzRr2/UNsEv/JV4deADRFx6Uge00nB32z5L/Pue4b1z3u422u1YPmaTezorXLy3AMpDdPjXr9lJ0+s28LRh+w/aDZT4/Nv762yszf/g+/pq1HKNOxQEsCaF3dw/ZKV7Ez3q/9B9VZr7OjNg3VnX41M+WG16+GWh3MeaNXIA6Wc5Y8tSQRBXzXoqwV91RrS0NCFaq3WvzKp1mJQ6EhiQjkPvK5yhsgP91EPxVoEE8ql/tCrlLK0UgqqtVoeMqS/rRS+1Vr+f1+6vR4uSmHTH1jpPWh8P0oS1VqNntR+T9/AN7H6SrMWDa85rRyztCIjtdFoaPtZJiqlfMVRKeU39lWjP+gjoKtUXxHk25vyFWP+effVYnALIr2H+aWcgrgWedjVfxfrCdT/rabh97PxPa2vOOore9VfWHqG+ntQX4FWIwa9f/l7OtBhaGyjf2WSPrf6CnnoX0Ct/7MceP7JE0rs11VmcleJcv/vQS397g38ftVfR/05aul3rl5bfQU09HP/wJlHM2PKrn9rI9FOwX8G8BPgIaD+2/unEfGD3T3GwW9m9vLtLvhbMavnbob/FmVmZuOgM+YHmpnZiDn4zcwKxsFvZlYwDn4zs4Jx8JuZFYyD38ysYBz8ZmYF09KDtI2UpG5gtEdpmw6sH8NymqHda2z3+qD9a2z3+sA1joV2q++IiJgxdOE+Efx7Q9Li4fZcayftXmO71wftX2O71weucSy0e311HuoxMysYB7+ZWcEUIfivanUBI9DuNbZ7fdD+NbZ7feAax0K71wcUYIzfzMwGK0KP38zMGjj4zcwKpqODX9KbJT0i6XFJl7VBPV+WtE7S0oZlB0m6RdJj6f8DW1zjXEk/lrRM0sOSPtJOdUqaKOleSQ+k+j6Vlh8paVH6rP9NUlcr6htSa0nSzyXd2G41Sloh6SFJ90tanJa1xWfcUOM0SddL+oWk5ZJOa6caJc1P71/9sknSpe1U4+50bPBLKgH/CJwHLADeLWlBa6viq8Cbhyy7DLgtIl4B3JZ+bqU+4GMRsQA4FfjD9L61S507gbMi4iTgZODNkk4F/gb4u4g4BngBeH+L6mv0EWB5w8/tVuOvRMTJDfPO2+UzrrsCuCkijgNOIn8v26bGiHgkvX8nA68BtgHfaacadysiOvICnEZ+Mvf6z5cDl7dBXfOApQ0/PwLMStdnAY+0usYh9X4XOLcd6wT2A+4DXke+t2R5uM++RbXNIf+jPwu4kfysc21TI7ACmD5kWdt8xsBU4CnSBJR2rHFIXb8K/L92rrHx0rE9fuAwYGXDz6vSsnYzMyJWp+trgJmtLKaRpHnAq4FFtFGdaQjlfmAdcAvwBLAxIvrSXdrhs/488CcMnFf6YNqrxgBulrRE0iVpWdt8xsCRQDfwlTRcdrWkybRXjY3eBVyXrrdrjf06Ofj3OZF3Edpifq2k/YH/AC6NiE2Nt7W6zoioRv71eg7wWuC4VtUyHEnnA+siYkmra3kJZ0TEKeRDoX8o6Q2NN7b6MyY/H/gpwBcj4tXAVoYMmbRBjQCkbTUXAv8+9LZ2qXGoTg7+Z4G5DT/PScvazVpJswDS/+taXA+SKuSh/42I+HZa3HZ1RsRG4MfkwybTJJXTTa3+rE8HLpS0Avgm+XDPFbRRjRHxbPp/Hfm49Gtpr894FbAqIhaln68nXxG0U4115wH3RcTa9HM71jhIJwf/z4BXpJkUXeRfxb7X4pqG8z3gonT9IvIx9ZaRJOBLwPKI+NuGm9qiTkkzJE1L1yeRb39YTr4C+G+trg8gIi6PiDkRMY/89+72iHgPbVKjpMmSptSvk49PL6VNPmOAiFgDrJQ0Py06G1hGG9XY4N0MDPNAe9Y4WKs3MjR5g8tbgEfJx4D/rA3quQ5YDfSS92jeTz72exvwGHArcFCLazyD/Kvpg8D96fKWdqkTOBH4eapvKfCXaflRwL3A4+RfuSe0+vNOdb0RuLGdakx1PJAuD9f/NtrlM26o82Rgcfqs/xM4sA1rnAw8D0xtWNZWNQ538SEbzMwKppOHeszMbBgOfjOzgnHwm5kVjIPfzKxgHPxmZgXj4LfCklQdcnTFMTuYlqR5jUdhNWsn5T3fxaxjbY/80A9mheIev9kQ6Vj1n03Hq79X0jFp+TxJt0t6UNJtkg5Py2dK+k46R8ADkl6fnqok6V/SeQNuTnsaI+nDys938KCkb7boZVqBOfityCYNGep5Z8NtL0bECcA/kB9pE+Dvga9FxInAN4Ar0/IrgTsjP0fAKeR7wwK8AvjHiHglsBF4R1p+GfDq9DwfbM5LM9s977lrhSVpS0TsP8zyFeQne3kyHbBuTUQcLGk9+XHWe9Py1RExXVI3MCcidjY8xzzglshPxoGkjwOViPhrSTcBW8gPQ/CfEbGlyS/VbBD3+M2GF7u5/nLsbLheZWCb2lvJzw53CvCzhiN2mo0LB7/Z8N7Z8P896fpPyY+2CfAe4Cfp+m3AH0D/SWKm7u5JJWXA3Ij4MfBx8jNN7fKtw6yZ3NOwIpuUzuRVd1NE1Kd0HijpQfJe+7vTsg+RnxHqj8nPDvW7aflHgKskvZ+8Z/8H5EdhHU4JuCatHARcGfl5BczGjcf4zYZIY/wLI2J9q2sxawYP9ZiZFYx7/GZmBeMev5lZwTj4zcwKxsFvZlYwDn4zs4Jx8JuZFcz/B2lzYB6e6bwqAAAAAElFTkSuQmCC\n",
       "datasetInfos": [],
       "metadata": {},
       "removedWidgets": [],
       "type": "image"
      }
     },
     "output_type": "display_data"
    }
   ],
   "source": [
    "visualize(hist)"
   ]
  },
  {
   "cell_type": "code",
   "execution_count": 0,
   "metadata": {
    "application/vnd.databricks.v1+cell": {
     "cellMetadata": {
      "byteLimit": 2048000,
      "rowLimit": 10000
     },
     "inputWidgets": {},
     "nuid": "a0690f1a-0286-4447-8f63-71a8f621cc9e",
     "showTitle": false,
     "title": ""
    }
   },
   "outputs": [
    {
     "output_type": "display_data",
     "data": {
      "image/png": "[encoded data removed]"
     },
     "metadata": {
      "application/vnd.databricks.v1+output": {
       "addedWidgets": {},
       "arguments": {},
       "data": "data:image/png;base64,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\n",
       "datasetInfos": [],
       "metadata": {},
       "removedWidgets": [],
       "type": "image"
      }
     },
     "output_type": "display_data"
    }
   ],
   "source": [
    "visualize(hist, acc=True)"
   ]
  }
 ],
 "metadata": {
  "application/vnd.databricks.v1+notebook": {
   "dashboards": [],
   "language": "python",
   "notebookMetadata": {
    "pythonIndentUnit": 4
   },
   "notebookName": "Deep Learning Jupyter Notebook",
   "widgets": {}
  }
 },
 "nbformat": 4,
 "nbformat_minor": 0
}

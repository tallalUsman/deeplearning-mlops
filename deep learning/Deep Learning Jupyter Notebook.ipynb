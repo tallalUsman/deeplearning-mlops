{
 "cells": [
  {
   "cell_type": "markdown",
   "metadata": {
    "application/vnd.databricks.v1+cell": {
     "cellMetadata": {
      "byteLimit": 2048000,
      "rowLimit": 10000
     },
     "inputWidgets": {},
     "nuid": "f4b4851b-db84-489d-b10a-a2e467e4264d",
     "showTitle": false,
     "title": ""
    }
   },
   "source": [
    "# Deep Learning: Feed-Forward model to Predict scores"
   ]
  },
  {
   "cell_type": "markdown",
   "metadata": {
    "application/vnd.databricks.v1+cell": {
     "cellMetadata": {
      "byteLimit": 2048000,
      "rowLimit": 10000
     },
     "inputWidgets": {},
     "nuid": "fc1612e0-8000-4b98-8352-2d1960998722",
     "showTitle": false,
     "title": ""
    }
   },
   "source": [
    "## Import Libraries"
   ]
  },
  {
   "cell_type": "code",
   "execution_count": 0,
   "metadata": {
    "application/vnd.databricks.v1+cell": {
     "cellMetadata": {
      "byteLimit": 2048000,
      "rowLimit": 10000
     },
     "inputWidgets": {},
     "nuid": "dd0979a8-bb77-40d3-9fac-03d62ec2c339",
     "showTitle": false,
     "title": ""
    }
   },
   "outputs": [],
   "source": [
    "!pip install torch"
   ]
  },
  {
   "cell_type": "code",
   "execution_count": 0,
   "metadata": {
    "application/vnd.databricks.v1+cell": {
     "cellMetadata": {
      "byteLimit": 2048000,
      "rowLimit": 10000
     },
     "inputWidgets": {},
     "nuid": "e0bc6f45-ecdb-489f-bc38-9ca32cd19c01",
     "showTitle": false,
     "title": ""
    }
   },
   "outputs": [],
   "source": [
    "from pyspark.sql import SparkSession\n",
    "import pyspark.pandas as ps\n",
    "from pyspark.ml.feature import StringIndexer\n",
    "\n",
    "import torch\n",
    "import torch.nn as nn\n",
    "import torch.nn.functional as F\n",
    "from torch.utils.data import random_split, TensorDataset, DataLoader"
   ]
  },
  {
   "cell_type": "markdown",
   "metadata": {
    "application/vnd.databricks.v1+cell": {
     "cellMetadata": {
      "byteLimit": 2048000,
      "rowLimit": 10000
     },
     "inputWidgets": {},
     "nuid": "30c9771a-a73b-4433-997e-014cce175b00",
     "showTitle": false,
     "title": ""
    }
   },
   "source": [
    "## Create Spark Dataframe and apply transformations"
   ]
  },
  {
   "cell_type": "code",
   "execution_count": 0,
   "metadata": {
    "application/vnd.databricks.v1+cell": {
     "cellMetadata": {
      "byteLimit": 2048000,
      "rowLimit": 10000
     },
     "inputWidgets": {},
     "nuid": "005caef7-464b-4c4f-b34d-3280697b1534",
     "showTitle": false,
     "title": ""
    }
   },
   "outputs": [],
   "source": [
    "# Create a Spark session\n",
    "spark = SparkSession.builder.getOrCreate()\n",
    "\n",
    "# Read a table into a Spark DataFrame\n",
    "spark_df = spark.table(\"football.gold_dl_table\")"
   ]
  },
  {
   "cell_type": "markdown",
   "metadata": {
    "application/vnd.databricks.v1+cell": {
     "cellMetadata": {
      "byteLimit": 2048000,
      "rowLimit": 10000
     },
     "inputWidgets": {},
     "nuid": "bb40086e-b471-4dce-850e-9f292cff8966",
     "showTitle": false,
     "title": ""
    }
   },
   "source": [
    "### Label encodings for categorical variables"
   ]
  },
  {
   "cell_type": "code",
   "execution_count": 0,
   "metadata": {
    "application/vnd.databricks.v1+cell": {
     "cellMetadata": {
      "byteLimit": 2048000,
      "rowLimit": 10000
     },
     "inputWidgets": {},
     "nuid": "d1e74a32-00c3-4827-8feb-09f775dc2d43",
     "showTitle": false,
     "title": ""
    }
   },
   "outputs": [],
   "source": [
    "# List of categorical columns to encode\n",
    "categorical_cols = [\"coach_id_home\", \"league_id\", \"season\", \"coach_id_away\"]\n",
    "\n",
    "# Loop through categorical columns and apply StringIndexer\n",
    "for col in categorical_cols:\n",
    "    indexer = StringIndexer(inputCol=col, outputCol=col + \"Index\")\n",
    "    spark_df = indexer.fit(spark_df).transform(spark_df)"
   ]
  },
  {
   "cell_type": "code",
   "execution_count": 0,
   "metadata": {
    "application/vnd.databricks.v1+cell": {
     "cellMetadata": {
      "byteLimit": 2048000,
      "rowLimit": 10000
     },
     "inputWidgets": {},
     "nuid": "71b3374f-f4ed-4804-89ef-9499c1ee61ad",
     "showTitle": false,
     "title": ""
    }
   },
   "outputs": [],
   "source": [
    "spark_df = spark_df.drop(\n",
    "    \"fixture_date\",\n",
    "    \"fixture_id\",\n",
    "    \"referee\",\n",
    "    \"venue_id\",\n",
    "    \"status\",\n",
    "    \"away_team_id\",\n",
    "    \"home_team_id\",\n",
    "    \"match_result\",\n",
    "    \"coach_id_home\",\n",
    "    \"coach_id_away\",\n",
    "    \"league_id\",\n",
    "    \"season\",\n",
    ")\n",
    "\n",
    "spark_df = spark_df.dropna()"
   ]
  },
  {
   "cell_type": "code",
   "execution_count": 0,
   "metadata": {
    "application/vnd.databricks.v1+cell": {
     "cellMetadata": {
      "byteLimit": 2048000,
      "rowLimit": 10000
     },
     "inputWidgets": {},
     "nuid": "0c170ec2-259b-4c33-b692-b20da80e6497",
     "showTitle": false,
     "title": ""
    }
   },
   "outputs": [],
   "source": [
    "spark_df.show(10)"
   ]
  },
  {
   "cell_type": "markdown",
   "metadata": {
    "application/vnd.databricks.v1+cell": {
     "cellMetadata": {
      "byteLimit": 2048000,
      "rowLimit": 10000
     },
     "inputWidgets": {},
     "nuid": "f0549eb0-8205-415d-86a8-8e4d0e5fb4a1",
     "showTitle": false,
     "title": ""
    }
   },
   "source": [
    "## Create Training and Testing Set: Load"
   ]
  },
  {
   "cell_type": "code",
   "execution_count": 0,
   "metadata": {
    "application/vnd.databricks.v1+cell": {
     "cellMetadata": {
      "byteLimit": 2048000,
      "rowLimit": 10000
     },
     "inputWidgets": {},
     "nuid": "e42de533-167d-4740-911c-f304dce732e2",
     "showTitle": false,
     "title": ""
    }
   },
   "outputs": [],
   "source": [
    "pandas_df = spark_df.toPandas()\n",
    "pandas_df.head(5)"
   ]
  },
  {
   "cell_type": "code",
   "execution_count": 0,
   "metadata": {
    "application/vnd.databricks.v1+cell": {
     "cellMetadata": {
      "byteLimit": 2048000,
      "rowLimit": 10000
     },
     "inputWidgets": {},
     "nuid": "0c1516d0-b7fa-4901-a874-26d514d1125d",
     "showTitle": false,
     "title": ""
    }
   },
   "outputs": [],
   "source": [
    "targets1 = pandas_df[\"away_goals\"].values.flatten()\n",
    "targets2 = pandas_df[\"home_goals\"].values.flatten()\n",
    "\n",
    "features = pandas_df.drop([\"away_goals\", \"home_goals\"], axis=1).values"
   ]
  },
  {
   "cell_type": "code",
   "execution_count": 0,
   "metadata": {
    "application/vnd.databricks.v1+cell": {
     "cellMetadata": {
      "byteLimit": 2048000,
      "rowLimit": 10000
     },
     "inputWidgets": {},
     "nuid": "9319da9a-dd73-47d4-a0f5-100afaa99c6b",
     "showTitle": false,
     "title": ""
    }
   },
   "outputs": [],
   "source": [
    "test_size = int(0.08 * 22603)  # represents size of validation set\n",
    "val_size = test_size\n",
    "train_size = 22603 - test_size * 2\n",
    "train_size, val_size, test_size"
   ]
  },
  {
   "cell_type": "code",
   "execution_count": 0,
   "metadata": {
    "application/vnd.databricks.v1+cell": {
     "cellMetadata": {
      "byteLimit": 2048000,
      "rowLimit": 10000
     },
     "inputWidgets": {},
     "nuid": "018f9f81-1b81-4147-9f05-78ed6565615a",
     "showTitle": false,
     "title": ""
    }
   },
   "outputs": [],
   "source": [
    "dataset = torch.utils.data.TensorDataset(\n",
    "    torch.tensor(features).float(),\n",
    "    torch.tensor(targets1).unsqueeze(-1),\n",
    "    torch.tensor(targets2).unsqueeze(-1),\n",
    ")\n",
    "train_ds, val_ds, test_ds = random_split(dataset, [train_size, val_size, test_size])\n",
    "batch_size = 256"
   ]
  },
  {
   "cell_type": "code",
   "execution_count": 0,
   "metadata": {
    "application/vnd.databricks.v1+cell": {
     "cellMetadata": {
      "byteLimit": 2048000,
      "rowLimit": 10000
     },
     "inputWidgets": {},
     "nuid": "6b4d0876-385d-4691-aa46-c15b9663060c",
     "showTitle": false,
     "title": ""
    }
   },
   "outputs": [],
   "source": [
    "train_loader = DataLoader(\n",
    "    train_ds, batch_size, shuffle=True, num_workers=4, pin_memory=False\n",
    ")\n",
    "val_loader = DataLoader(val_ds, batch_size * 2, num_workers=4, pin_memory=False)\n",
    "test_loader = DataLoader(test_ds, batch_size * 2, num_workers=4, pin_memory=False)"
   ]
  },
  {
   "cell_type": "code",
   "execution_count": 0,
   "metadata": {
    "application/vnd.databricks.v1+cell": {
     "cellMetadata": {
      "byteLimit": 2048000,
      "rowLimit": 10000
     },
     "inputWidgets": {},
     "nuid": "b545a6aa-e8d1-4aed-b300-d7e26fa6e189",
     "showTitle": false,
     "title": ""
    }
   },
   "outputs": [],
   "source": [
    "for x, y1, y2 in test_loader:\n",
    "    print(x.shape, y1.shape, y2.shape)\n",
    "    break"
   ]
  },
  {
   "cell_type": "code",
   "execution_count": 0,
   "metadata": {
    "application/vnd.databricks.v1+cell": {
     "cellMetadata": {
      "byteLimit": 2048000,
      "rowLimit": 10000
     },
     "inputWidgets": {},
     "nuid": "ae75c411-97ee-4e47-b09c-5e0aa9a4cdbd",
     "showTitle": false,
     "title": ""
    }
   },
   "outputs": [],
   "source": [
    "train_loader"
   ]
  },
  {
   "cell_type": "markdown",
   "metadata": {
    "application/vnd.databricks.v1+cell": {
     "cellMetadata": {
      "byteLimit": 2048000,
      "rowLimit": 10000
     },
     "inputWidgets": {},
     "nuid": "c0014efd-9e29-48a3-bacb-09fdf79c59aa",
     "showTitle": false,
     "title": ""
    }
   },
   "source": [
    "## Setup PyTorch Model"
   ]
  },
  {
   "cell_type": "code",
   "execution_count": 0,
   "metadata": {
    "application/vnd.databricks.v1+cell": {
     "cellMetadata": {
      "byteLimit": 2048000,
      "rowLimit": 10000
     },
     "inputWidgets": {},
     "nuid": "52f273a6-1360-46e2-a400-3703b466305d",
     "showTitle": false,
     "title": ""
    }
   },
   "outputs": [],
   "source": [
    "input_size = 14\n",
    "output_size = 1"
   ]
  },
  {
   "cell_type": "code",
   "execution_count": 0,
   "metadata": {
    "application/vnd.databricks.v1+cell": {
     "cellMetadata": {
      "byteLimit": 2048000,
      "rowLimit": 10000
     },
     "inputWidgets": {},
     "nuid": "3e8f6b38-ec38-42c4-ac7c-efe5771e4d43",
     "showTitle": false,
     "title": ""
    }
   },
   "outputs": [],
   "source": [
    "output_size = 1\n",
    "\n",
    "\n",
    "class FootballModelMk2(nn.Module):\n",
    "    def __init__(self, input_size, output_size):\n",
    "        super().__init__()\n",
    "        self.fc1 = nn.Linear(input_size, 64)\n",
    "        self.fc2 = nn.Linear(64, 32)\n",
    "        self.fc3_1 = nn.Linear(32, output_size)  # output for target1\n",
    "        self.fc3_2 = nn.Linear(32, output_size)  # output for target2\n",
    "        self.dp = nn.Dropout(0.5)\n",
    "        self.bn1 = nn.BatchNorm1d(64)\n",
    "        self.bn2 = nn.BatchNorm1d(32)\n",
    "\n",
    "    def forward(self, x):\n",
    "        x = F.relu(self.bn1(self.fc1(x)))\n",
    "        x = self.dp(x)\n",
    "        x = F.relu(self.bn2(self.fc2(x)))\n",
    "        x = self.dp(x)\n",
    "        out1 = self.fc3_1(x)  # prediction for target1\n",
    "        out2 = self.fc3_2(x)  # prediction for target2\n",
    "        return out1, out2"
   ]
  },
  {
   "cell_type": "code",
   "execution_count": 0,
   "metadata": {
    "application/vnd.databricks.v1+cell": {
     "cellMetadata": {
      "byteLimit": 2048000,
      "rowLimit": 10000
     },
     "inputWidgets": {},
     "nuid": "2252f4d7-d259-41ac-a1d2-063131b38c87",
     "showTitle": false,
     "title": ""
    }
   },
   "outputs": [],
   "source": [
    "crit = nn.L1Loss()  # criterion\n",
    "opt_func = torch.optim.SGD  # optimizer function (w/o params or lr)"
   ]
  },
  {
   "cell_type": "code",
   "execution_count": 0,
   "metadata": {
    "application/vnd.databricks.v1+cell": {
     "cellMetadata": {
      "byteLimit": 2048000,
      "rowLimit": 10000
     },
     "inputWidgets": {},
     "nuid": "34054f89-4466-429f-9a25-2d0423e70e0b",
     "showTitle": false,
     "title": ""
    }
   },
   "outputs": [],
   "source": [
    "def fit(epochs, lr, model, train_loader, val_loader, crit, opt_func, device):\n",
    "    history = []\n",
    "    # define optimizer\n",
    "    opt = opt_func(model.parameters(), lr=lr)\n",
    "    # loop for num of epochs\n",
    "    for epoch in range(epochs):\n",
    "        # training per epoch (iterate through each batch)\n",
    "        for inputs, target1, target2 in train_loader:\n",
    "            # put inputs to the same device as model (GPU or CPU)\n",
    "            inputs, target1, target2 = (\n",
    "                inputs.to(device),\n",
    "                target1.to(device),\n",
    "                target2.to(device),\n",
    "            )\n",
    "            # using optimizer & loss\n",
    "            opt.zero_grad()\n",
    "            (outs1, outs2), (loss1, loss2) = step(inputs, target1, target2, model, crit)\n",
    "            loss = (\n",
    "                loss1 + loss2\n",
    "            )  # consider if this is the appropriate way to handle multiple losses\n",
    "            loss.backward()\n",
    "            opt.step()\n",
    "        # evaluate model on validation set every epoch\n",
    "        val_results = evaluate(model, val_loader, crit, device)\n",
    "        # printing as output every 5 epochs\n",
    "        if (epoch + 1) % 5 == 0 or (epoch + 1) == epochs:\n",
    "            print(f'Epoch #{epoch + 1} ==> Val Loss: {val_results[\"avg_loss\"]}')\n",
    "        history.append(val_results)\n",
    "    return history\n",
    "\n",
    "\n",
    "def evaluate(model, loader, crit, device):\n",
    "    losses = []\n",
    "    accuracies = []\n",
    "    # define the tolerance level\n",
    "    tol = 0.4\n",
    "    model.eval()\n",
    "    # tracking gradient not needed\n",
    "    with torch.no_grad():\n",
    "        # looping over data loader\n",
    "        for inputs, target1, target2 in train_loader:\n",
    "            inputs, target1, target2 = (\n",
    "                inputs.to(device),\n",
    "                target1.to(device),\n",
    "                target2.to(device),\n",
    "            )\n",
    "            (outs1, outs2), (loss1, loss2) = step(\n",
    "                inputs, target1, target2, model, crit, evaluate=True\n",
    "            )\n",
    "            loss = (\n",
    "                loss1 + loss2\n",
    "            )  # consider if this is the appropriate way to handle multiple losses\n",
    "            losses.append(loss.item())\n",
    "            acc1 = ((outs1 - target1).abs() <= tol).float().mean()\n",
    "            acc2 = ((outs2 - target2).abs() <= tol).float().mean()\n",
    "            accuracies.append((acc1 + acc2) / 2)  # average of the two accuracies\n",
    "\n",
    "    avg_loss = sum(losses) / len(losses)\n",
    "    avg_acc = sum(accuracies) / len(accuracies)  # compute average \"accuracy\"\n",
    "    return {\"avg_loss\": avg_loss, \"avg_acc\": avg_acc}\n",
    "\n",
    "\n",
    "# function to input features into model (used for training + validation)\n",
    "def step(inputs, target1, target2, model, crit, evaluate=False):\n",
    "    outs1, outs2 = model(inputs)\n",
    "    loss1 = crit(outs1, target1)\n",
    "    loss2 = crit(outs2, target2)\n",
    "    return (outs1, outs2), (loss1, loss2)"
   ]
  },
  {
   "cell_type": "markdown",
   "metadata": {
    "application/vnd.databricks.v1+cell": {
     "cellMetadata": {
      "byteLimit": 2048000,
      "rowLimit": 10000
     },
     "inputWidgets": {},
     "nuid": "cb9d62c2-9439-4e96-9cb0-cc7d1aac9481",
     "showTitle": false,
     "title": ""
    }
   },
   "source": [
    "### Use GPU if available"
   ]
  },
  {
   "cell_type": "code",
   "execution_count": 0,
   "metadata": {
    "application/vnd.databricks.v1+cell": {
     "cellMetadata": {
      "byteLimit": 2048000,
      "rowLimit": 10000
     },
     "inputWidgets": {},
     "nuid": "93125de7-8881-4e9a-b639-6d45fc8a43e3",
     "showTitle": false,
     "title": ""
    }
   },
   "outputs": [],
   "source": [
    "if torch.cuda.is_available():\n",
    "    device = torch.device(\"cuda\")\n",
    "else:\n",
    "    device = torch.device(\"cpu\")"
   ]
  },
  {
   "cell_type": "code",
   "execution_count": 0,
   "metadata": {
    "application/vnd.databricks.v1+cell": {
     "cellMetadata": {
      "byteLimit": 2048000,
      "rowLimit": 10000
     },
     "inputWidgets": {},
     "nuid": "a658e05d-9e86-4ffe-91af-23390c5d6e59",
     "showTitle": false,
     "title": ""
    }
   },
   "outputs": [],
   "source": [
    "device"
   ]
  },
  {
   "cell_type": "code",
   "execution_count": 0,
   "metadata": {
    "application/vnd.databricks.v1+cell": {
     "cellMetadata": {
      "byteLimit": 2048000,
      "rowLimit": 10000
     },
     "inputWidgets": {},
     "nuid": "80f4892a-de05-4c9e-b023-e1fee5715978",
     "showTitle": false,
     "title": ""
    }
   },
   "outputs": [],
   "source": [
    "model = FootballModelMk2(input_size, output_size).to(device)\n",
    "model"
   ]
  },
  {
   "cell_type": "markdown",
   "metadata": {
    "application/vnd.databricks.v1+cell": {
     "cellMetadata": {
      "byteLimit": 2048000,
      "rowLimit": 10000
     },
     "inputWidgets": {},
     "nuid": "c98a3a77-0f6f-477e-a66b-0506879b5728",
     "showTitle": false,
     "title": ""
    }
   },
   "source": [
    "### Visualization Setup"
   ]
  },
  {
   "cell_type": "code",
   "execution_count": 0,
   "metadata": {
    "application/vnd.databricks.v1+cell": {
     "cellMetadata": {
      "byteLimit": 2048000,
      "rowLimit": 10000
     },
     "inputWidgets": {},
     "nuid": "d39f8264-8b59-45fd-8e2d-b9334a909afa",
     "showTitle": false,
     "title": ""
    }
   },
   "outputs": [],
   "source": [
    "import matplotlib.pyplot as plt\n",
    "\n",
    "\n",
    "def visualize(hist, acc=False):\n",
    "    losses = [x[\"avg_loss\"] for x in hist]\n",
    "    accs = [x[\"avg_acc\"] for x in hist]\n",
    "    if acc:\n",
    "        plt.plot(accs)\n",
    "        plt.ylabel(\"Accuracy (%)\")\n",
    "        plt.title(\"Accuracy over Epochs\")\n",
    "    else:\n",
    "        plt.plot(losses)\n",
    "        plt.ylabel(\"Losses\")\n",
    "        plt.title(\"Losses over Epochs\")\n",
    "    plt.xlabel(\"Epochs\")\n",
    "    plt.show()"
   ]
  },
  {
   "cell_type": "markdown",
   "metadata": {
    "application/vnd.databricks.v1+cell": {
     "cellMetadata": {
      "byteLimit": 2048000,
      "rowLimit": 10000
     },
     "inputWidgets": {},
     "nuid": "dfb1ca8c-20cc-4da3-b15e-ed733594bcbe",
     "showTitle": false,
     "title": ""
    }
   },
   "source": [
    "## Run Model"
   ]
  },
  {
   "cell_type": "code",
   "execution_count": 0,
   "metadata": {
    "application/vnd.databricks.v1+cell": {
     "cellMetadata": {
      "byteLimit": 2048000,
      "rowLimit": 10000
     },
     "inputWidgets": {},
     "nuid": "902bec62-c390-451c-8388-8c27d56015c2",
     "showTitle": false,
     "title": ""
    }
   },
   "outputs": [],
   "source": [
    "before_train = evaluate(model, train_loader, crit, device)\n",
    "before_train\n",
    "\n",
    "hist = [evaluate(model, val_loader, crit, device)]"
   ]
  },
  {
   "cell_type": "code",
   "execution_count": 0,
   "metadata": {
    "application/vnd.databricks.v1+cell": {
     "cellMetadata": {
      "byteLimit": 2048000,
      "rowLimit": 10000
     },
     "inputWidgets": {},
     "nuid": "736d6290-27a6-431f-b1f3-90a9d799076e",
     "showTitle": false,
     "title": ""
    }
   },
   "outputs": [],
   "source": [
    "hist += fit(25, 1e-3, model, train_loader, val_loader, crit, opt_func, device)"
   ]
  },
  {
   "cell_type": "code",
   "execution_count": 0,
   "metadata": {
    "application/vnd.databricks.v1+cell": {
     "cellMetadata": {
      "byteLimit": 2048000,
      "rowLimit": 10000
     },
     "inputWidgets": {},
     "nuid": "4eca2e38-689e-4c9b-81c0-28467baf8da9",
     "showTitle": false,
     "title": ""
    }
   },
   "outputs": [],
   "source": [
    "hist += fit(50, 1e-4, model, train_loader, val_loader, crit, opt_func, device)"
   ]
  },
  {
   "cell_type": "code",
   "execution_count": 0,
   "metadata": {
    "application/vnd.databricks.v1+cell": {
     "cellMetadata": {
      "byteLimit": 2048000,
      "rowLimit": 10000
     },
     "inputWidgets": {},
     "nuid": "719d86f8-c90f-4574-b765-63188e77b542",
     "showTitle": false,
     "title": ""
    }
   },
   "outputs": [],
   "source": [
    "after_train = evaluate(model, test_loader, crit, device)\n",
    "after_train"
   ]
  },
  {
   "cell_type": "code",
   "execution_count": 0,
   "metadata": {
    "application/vnd.databricks.v1+cell": {
     "cellMetadata": {
      "byteLimit": 2048000,
      "rowLimit": 10000
     },
     "inputWidgets": {},
     "nuid": "bbb37ccd-f014-4b96-b8ee-872d9102b1b1",
     "showTitle": false,
     "title": ""
    }
   },
   "outputs": [],
   "source": [
    "visualize(hist)"
   ]
  },
  {
   "cell_type": "code",
   "execution_count": 0,
   "metadata": {
    "application/vnd.databricks.v1+cell": {
     "cellMetadata": {
      "byteLimit": 2048000,
      "rowLimit": 10000
     },
     "inputWidgets": {},
     "nuid": "a0690f1a-0286-4447-8f63-71a8f621cc9e",
     "showTitle": false,
     "title": ""
    }
   },
   "outputs": [],
   "source": [
    "visualize(hist, acc=True)"
   ]
  }
 ],
 "metadata": {
  "application/vnd.databricks.v1+notebook": {
   "dashboards": [],
   "language": "python",
   "notebookMetadata": {
    "pythonIndentUnit": 4
   },
   "notebookName": "Deep Learning Jupyter Notebook",
   "widgets": {}
  }
 },
 "nbformat": 4,
 "nbformat_minor": 0
}
